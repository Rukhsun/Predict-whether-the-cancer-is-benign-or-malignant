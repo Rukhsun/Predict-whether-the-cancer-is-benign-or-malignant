{
 "cells": [
  {
   "cell_type": "markdown",
   "metadata": {},
   "source": [
    "# Predict whether the cancer is benign or malignant\n",
    "#sklearn.utils.shuffle use the double amount of memory in my test. I'd like the in-place implemenation without using 2x times memory of the input array\n",
    "#sklearn reduce the memory consumption\n",
    "#matplotlib.gridspec.gridspec contains classes that help to layout multiple Axes in grid-like pattern within a figure .The GridSpace specifies overall grid structure\n"
   ]
  },
  {
   "cell_type": "code",
   "execution_count": 1,
   "metadata": {},
   "outputs": [],
   "source": [
    "%matplotlib inline \n",
    "import tensorflow as tf\n",
    "import pandas as pd\n",
    "from sklearn.utils import shuffle\n",
    "import matplotlib.gridspec as gridspec\n",
    "import seaborn as sns\n",
    "import matplotlib.pyplot as plt"
   ]
  },
  {
   "cell_type": "markdown",
   "metadata": {},
   "source": [
    "# import data"
   ]
  },
  {
   "cell_type": "code",
   "execution_count": 2,
   "metadata": {},
   "outputs": [],
   "source": [
    "train_file=\"D:/dataset.csv\""
   ]
  },
  {
   "cell_type": "markdown",
   "metadata": {},
   "source": [
    "# set column keys"
   ]
  },
  {
   "cell_type": "code",
   "execution_count": 3,
   "metadata": {},
   "outputs": [],
   "source": [
    "idKey = \"id\"\n",
    "diagnosisKey = \"diagnosis\"\n",
    "radiusMeanKey = \"radius_mean\"\n",
    "textureMeanKey = \"texture_mean\"\n",
    "perimeterMeanKey = \"perimeter_mean\"\n",
    "areaMeanKey = \"area_mean\"\n",
    "smoothnessMeanKey = \"smoothness_mean\"\n",
    "compactnessMeanKey = \"compactness_mean\"\n",
    "concavityMeanKey = \"concavity_mean\"\n",
    "concavePointsMeanKey = \"concave points_mean\"\n",
    "symmetryMeanKey = \"symmetry_mean\"\n",
    "fractalDimensionMean = \"fractal_dimension_mean\"\n",
    "radiusSeKey = \"radius_se\"\n",
    "textureSeKey = \"texture_se\"\n",
    "perimeterSeKey = \"perimeter_se\"\n",
    "areaSeKey = \"area_se\"\n",
    "smoothnessSeKey = \"smoothness_se\"\n",
    "compactnessSeKey = \"compactness_se\"\n",
    "concavitySeKey = \"concavity_se\"\n",
    "concavePointsSeKey = \"concave points_se\"\n",
    "symmetrySeKey = \"symmetry_se\"\n",
    "fractalDimensionSeKey = \"fractal_dimension_se\"\n",
    "radiusWorstKey = \"radius_worst\"\n",
    "textureWorstKey = \"texture_worst\"\n",
    "perimeterWorstKey = \"perimeter_worst\"\n",
    "areaWorstKey = \"area_worst\"\n",
    "smoothnessWorstKey = \"smoothness_worst\"\n",
    "compactnessWorstKey = \"compactness_worst\"\n",
    "concavityWorstKey = \"concavity_worst\"\n",
    "concavePointsWorstKey = \"concave points_worst\"\n",
    "symmetryWorstKey = \"symmetry_worst\"\n",
    "fractalDimensionWorstKey = \"fractal_dimension_worst\""
   ]
  },
  {
   "cell_type": "code",
   "execution_count": 4,
   "metadata": {},
   "outputs": [],
   "source": [
    "train_columns = [idKey, diagnosisKey,radiusMeanKey,textureMeanKey, perimeterMeanKey,areaMeanKey, smoothnessMeanKey,\n",
    "                 compactnessMeanKey, concavityMeanKey, concavePointsMeanKey, symmetryMeanKey,fractalDimensionMean,\n",
    "                 radiusSeKey, textureSeKey, perimeterSeKey, areaSeKey,smoothnessSeKey, compactnessSeKey, concavitySeKey,\n",
    "                 concavePointsSeKey, symmetrySeKey, fractalDimensionSeKey,\n",
    "                 radiusWorstKey, textureWorstKey, perimeterWorstKey, areaWorstKey, \n",
    "                 smoothnessWorstKey, compactnessWorstKey, concavityWorstKey, concavePointsWorstKey, \n",
    "                 symmetryWorstKey, fractalDimensionWorstKey]"
   ]
  },
  {
   "cell_type": "code",
   "execution_count": 5,
   "metadata": {},
   "outputs": [],
   "source": [
    "def get_train_data():\n",
    "    df = pd.read_csv(link+\"dataset.csv\", names= train_columns, delimiter=',', skiprows=1)\n",
    "    return df"
   ]
  },
  {
   "cell_type": "code",
   "execution_count": 6,
   "metadata": {},
   "outputs": [
    {
     "ename": "NameError",
     "evalue": "name 'link' is not defined",
     "output_type": "error",
     "traceback": [
      "\u001b[1;31m---------------------------------------------------------------------------\u001b[0m",
      "\u001b[1;31mNameError\u001b[0m                                 Traceback (most recent call last)",
      "\u001b[1;32m<ipython-input-6-76ba16c86fa1>\u001b[0m in \u001b[0;36m<module>\u001b[1;34m\u001b[0m\n\u001b[1;32m----> 1\u001b[1;33m \u001b[0mtrain_data\u001b[0m \u001b[1;33m=\u001b[0m \u001b[0mget_train_data\u001b[0m\u001b[1;33m(\u001b[0m\u001b[1;33m)\u001b[0m\u001b[1;33m\u001b[0m\u001b[1;33m\u001b[0m\u001b[0m\n\u001b[0m",
      "\u001b[1;32m<ipython-input-5-d091fb582b1e>\u001b[0m in \u001b[0;36mget_train_data\u001b[1;34m()\u001b[0m\n\u001b[0;32m      1\u001b[0m \u001b[1;32mdef\u001b[0m \u001b[0mget_train_data\u001b[0m\u001b[1;33m(\u001b[0m\u001b[1;33m)\u001b[0m\u001b[1;33m:\u001b[0m\u001b[1;33m\u001b[0m\u001b[1;33m\u001b[0m\u001b[0m\n\u001b[1;32m----> 2\u001b[1;33m     \u001b[0mdf\u001b[0m \u001b[1;33m=\u001b[0m \u001b[0mpd\u001b[0m\u001b[1;33m.\u001b[0m\u001b[0mread_csv\u001b[0m\u001b[1;33m(\u001b[0m\u001b[0mlink\u001b[0m\u001b[1;33m+\u001b[0m\u001b[1;34m\"dataset.csv\"\u001b[0m\u001b[1;33m,\u001b[0m \u001b[0mnames\u001b[0m\u001b[1;33m=\u001b[0m \u001b[0mtrain_columns\u001b[0m\u001b[1;33m,\u001b[0m \u001b[0mdelimiter\u001b[0m\u001b[1;33m=\u001b[0m\u001b[1;34m','\u001b[0m\u001b[1;33m,\u001b[0m \u001b[0mskiprows\u001b[0m\u001b[1;33m=\u001b[0m\u001b[1;36m1\u001b[0m\u001b[1;33m)\u001b[0m\u001b[1;33m\u001b[0m\u001b[1;33m\u001b[0m\u001b[0m\n\u001b[0m\u001b[0;32m      3\u001b[0m     \u001b[1;32mreturn\u001b[0m \u001b[0mdf\u001b[0m\u001b[1;33m\u001b[0m\u001b[1;33m\u001b[0m\u001b[0m\n",
      "\u001b[1;31mNameError\u001b[0m: name 'link' is not defined"
     ]
    }
   ],
   "source": [
    "train_data = get_train_data()"
   ]
  },
  {
   "cell_type": "markdown",
   "metadata": {},
   "source": [
    "# exploring data"
   ]
  },
  {
   "cell_type": "code",
   "execution_count": null,
   "metadata": {},
   "outputs": [],
   "source": [
    "train_data.head()"
   ]
  },
  {
   "cell_type": "code",
   "execution_count": null,
   "metadata": {},
   "outputs": [],
   "source": [
    "train_data.describe()"
   ]
  },
  {
   "cell_type": "code",
   "execution_count": null,
   "metadata": {},
   "outputs": [],
   "source": [
    "train_data.isnull().sum()"
   ]
  },
  {
   "cell_type": "markdown",
   "metadata": {},
   "source": [
    "# how area_mean compare across malignant and benign diagnosis"
   ]
  },
  {
   "cell_type": "code",
   "execution_count": null,
   "metadata": {},
   "outputs": [],
   "source": [
    "print (\"Malignant\")\n",
    "print (train_data.area_mean[train_data.diagnosis == \"M\"].describe())\n",
    "print ()\n",
    "print (\"Benign\")\n",
    "print (train_data.area_mean[train_data.diagnosis == \"B\"].describe())"
   ]
  },
  {
   "cell_type": "code",
   "execution_count": null,
   "metadata": {},
   "outputs": [],
   "source": [
    "f, (ax1, ax2) = plt.subplots(2, 1, sharex=True, figsize=(12,4))\n",
    "\n",
    "bins = 50\n",
    "\n",
    "ax1.hist(train_data.area_mean[train_data.diagnosis == \"M\"], bins = bins)\n",
    "ax1.set_title('Malignant')\n",
    "\n",
    "ax2.hist(train_data.area_mean[train_data.diagnosis == \"B\"], bins = bins)\n",
    "ax2.set_title('Benign')\n",
    "\n",
    "plt.xlabel('Area Mean')\n",
    "plt.ylabel('Number of Diagnosis')\n",
    "plt.show()"
   ]
  },
  {
   "cell_type": "markdown",
   "metadata": {},
   "source": [
    "The 'area_mean' feature looks different as it increases its value across\n",
    "both types of diagnosis. You could argue that malignant diagnosis are more\n",
    "are more uniformly distributed, while benign diagnosis have a normal distribution.\n",
    "This could make it easier to detect a malignant diagnosis when the area_mean is above the 750 value. Now let's\n",
    "see how the diagnosis area_worst differs between the two types."
   ]
  },
  {
   "cell_type": "code",
   "execution_count": null,
   "metadata": {},
   "outputs": [],
   "source": [
    "#Select only the rest of the features.\n",
    "r_data = train_data.drop([idKey, areaMeanKey, areaWorstKey, diagnosisKey], axis=1)\n",
    "r_features = r_data.columns"
   ]
  },
  {
   "cell_type": "code",
   "execution_count": null,
   "metadata": {},
   "outputs": [],
   "source": [
    "plt.figure(figsize=(12,28*4))\n",
    "gs = gridspec.GridSpec(28, 1)\n",
    "for i, cn in enumerate(r_data[r_features]):\n",
    "    ax = plt.subplot(gs[i])\n",
    "    sns.distplot(train_data[cn][train_data.diagnosis == \"M\"], bins=50)\n",
    "    sns.distplot(train_data[cn][train_data.diagnosis == \"B\"], bins=50)\n",
    "    ax.set_xlabel('')\n",
    "    ax.set_title('histogram of feature: ' + str(cn))\n",
    "plt.show()"
   ]
  },
  {
   "cell_type": "markdown",
   "metadata": {},
   "source": [
    "# Update the value of diagnosis. 1 for Malignant and 0 for Benign"
   ]
  },
  {
   "cell_type": "code",
   "execution_count": null,
   "metadata": {},
   "outputs": [],
   "source": [
    "train_data.loc[train_data.diagnosis == \"M\", 'diagnosis'] = 1\n",
    "train_data.loc[train_data.diagnosis == \"B\", 'diagnosis'] = 0"
   ]
  },
  {
   "cell_type": "markdown",
   "metadata": {},
   "source": [
    "# Create a new feature for benign (non-malignant) diagnosis"
   ]
  },
  {
   "cell_type": "code",
   "execution_count": null,
   "metadata": {},
   "outputs": [],
   "source": [
    "train_data.loc[train_data.diagnosis == 0, 'benign'] = 1\n",
    "train_data.loc[train_data.diagnosis == 1, 'benign'] = 0"
   ]
  },
  {
   "cell_type": "markdown",
   "metadata": {},
   "source": [
    "# Convert benign column type to integer"
   ]
  },
  {
   "cell_type": "code",
   "execution_count": null,
   "metadata": {},
   "outputs": [],
   "source": [
    "train_data['benign'] = train_data.benign.astype(int)"
   ]
  },
  {
   "cell_type": "markdown",
   "metadata": {},
   "source": [
    "# Rename 'Class' to 'Malignant'."
   ]
  },
  {
   "cell_type": "code",
   "execution_count": null,
   "metadata": {},
   "outputs": [],
   "source": [
    "train_data = train_data.rename(columns={'diagnosis': 'malignant'})"
   ]
  },
  {
   "cell_type": "code",
   "execution_count": null,
   "metadata": {},
   "outputs": [],
   "source": [
    "print(train_data.benign.value_counts())\n",
    "print()\n",
    "print(train_data.malignant.value_counts())"
   ]
  },
  {
   "cell_type": "code",
   "execution_count": null,
   "metadata": {},
   "outputs": [],
   "source": [
    "pd.set_option(\"display.max_columns\",101)\n",
    "train_data.head()"
   ]
  },
  {
   "cell_type": "markdown",
   "metadata": {},
   "source": [
    "# Create dataframes of only Malignant and Benign diagnosis"
   ]
  },
  {
   "cell_type": "code",
   "execution_count": null,
   "metadata": {},
   "outputs": [],
   "source": [
    "Malignant = train_data[train_data.malignant == 1]\n",
    "Benign = train_data[train_data.benign == 1]"
   ]
  },
  {
   "cell_type": "markdown",
   "metadata": {},
   "source": [
    "# Set train_X equal to 80% of the malignant diagnosis"
   ]
  },
  {
   "cell_type": "code",
   "execution_count": null,
   "metadata": {},
   "outputs": [],
   "source": [
    "train_X = Malignant.sample(frac=0.8)\n",
    "count_Malignants = len(train_X)"
   ]
  },
  {
   "cell_type": "markdown",
   "metadata": {},
   "source": [
    "# Add 80% of the benign diagnosis to train_X"
   ]
  },
  {
   "cell_type": "code",
   "execution_count": null,
   "metadata": {},
   "outputs": [],
   "source": []
  },
  {
   "cell_type": "code",
   "execution_count": null,
   "metadata": {},
   "outputs": [],
   "source": []
  },
  {
   "cell_type": "code",
   "execution_count": null,
   "metadata": {},
   "outputs": [],
   "source": []
  }
 ],
 "metadata": {
  "kernelspec": {
   "display_name": "Python 3",
   "language": "python",
   "name": "python3"
  },
  "language_info": {
   "codemirror_mode": {
    "name": "ipython",
    "version": 3
   },
   "file_extension": ".py",
   "mimetype": "text/x-python",
   "name": "python",
   "nbconvert_exporter": "python",
   "pygments_lexer": "ipython3",
   "version": "3.7.3"
  }
 },
 "nbformat": 4,
 "nbformat_minor": 2
}
